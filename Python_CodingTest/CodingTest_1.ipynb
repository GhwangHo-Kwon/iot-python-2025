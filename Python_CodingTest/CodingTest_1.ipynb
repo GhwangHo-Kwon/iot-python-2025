{
 "cells": [
  {
   "cell_type": "markdown",
   "metadata": {},
   "source": [
    "## 1. 반지름 값을 입력받아 원의 넓이를 구하여 출력하는 프로그램을 구현하세요. π는 3.141592 입니다. 내부 모듈을 사용하여도 됩니다. "
   ]
  },
  {
   "cell_type": "code",
   "execution_count": 20,
   "metadata": {},
   "outputs": [
    {
     "name": "stdout",
     "output_type": "stream",
     "text": [
      "12.566368\n"
     ]
    }
   ],
   "source": [
    "radius = float(input())\n",
    "cir_area = ((3.141592)*((radius)**2))\n",
    "print(cir_area)"
   ]
  },
  {
   "cell_type": "markdown",
   "metadata": {},
   "source": [
    "## 2. 영문이름을 입력하면 웹사이트 주소가 리턴되는 함수, get_url() 를  구현하세요.\n",
    "예) url = get_url('google') \n",
    "\n",
    "print(url) # www.google.com"
   ]
  },
  {
   "cell_type": "code",
   "execution_count": null,
   "metadata": {},
   "outputs": [
    {
     "name": "stdout",
     "output_type": "stream",
     "text": [
      "www.google.com\n"
     ]
    }
   ],
   "source": [
    "def get_url(searchURL):\n",
    "    lstURL = [' www.naver.com', 'www.google.com', 'www.nate.com', 'www.yahoo.co.jp'] # 임시 URL 데이터베이스\n",
    "    \n",
    "    for i in lstURL:\n",
    "        if searchURL in i:\n",
    "            return i\n",
    "\n",
    "url = get_url('google')\n",
    "print(url)"
   ]
  },
  {
   "cell_type": "markdown",
   "metadata": {},
   "source": [
    "## 3.  구구단을 수행할 단번호를 입력하면 그 단의 9까지의 결과를 나열하는 프로그램을 입력하세요.\n",
    "예) 3 --> 3 6 9 12 15 18 21 24 27"
   ]
  },
  {
   "cell_type": "code",
   "execution_count": 4,
   "metadata": {},
   "outputs": [
    {
     "name": "stdout",
     "output_type": "stream",
     "text": [
      "3 6 9 12 15 18 21 24 27\n"
     ]
    }
   ],
   "source": [
    "# 1 내가 제출한 답\n",
    "num = int(input())\n",
    "print(' '.join([str(i * num) for i in range(1, 10)]))\n",
    "\n",
    "# 2\n",
    "# num = int(input())\n",
    "# for i in range(1, 10):\n",
    "#     print(num * i, end=' ')"
   ]
  },
  {
   "cell_type": "markdown",
   "metadata": {},
   "source": [
    "## 4.  입력한 수를 거꾸로 출력하는 프로그램을 구현하세요.\n",
    "예) 1 3 5 7 9 --> 9 7 5 3 1"
   ]
  },
  {
   "cell_type": "code",
   "execution_count": null,
   "metadata": {},
   "outputs": [
    {
     "name": "stdout",
     "output_type": "stream",
     "text": [
      "9 7 5 3 1 "
     ]
    }
   ],
   "source": [
    "# 1 내가 제출한 답\n",
    "input_list = reversed(list(map(int, input().split())))\n",
    "\n",
    "for i in input_list:\n",
    "    print(i, end=' ')\n",
    "\n",
    "# 2\n",
    "# print(' '.join(reversed(list(map(str, input().split())))))\n",
    "\n",
    "# 3\n",
    "# numInput = list(map(int, input().split()))\n",
    "\n",
    "# for i in range(len(numInput)-1, -1, -1):\n",
    "#     print(numInput[i], end=' ')\n",
    "\n",
    "# 4 \n",
    "# numInput = list(map(int, input().split()))\n",
    "\n",
    "# for i in range(len(numInput)):\n",
    "#     print(numInput[-i-1], end=' ')"
   ]
  },
  {
   "cell_type": "markdown",
   "metadata": {},
   "source": [
    "## 5. SmartPhone 이라는 클래스를 만들고, 객체를 생성해서 phoneOwner, phoneNumber, company 등의 멤버변수(속성)을 가지도록 만드세요.(본인이 다른 기능을 좀 더 추가하여도 무방합니다)\n",
    "*\n"
   ]
  },
  {
   "cell_type": "code",
   "execution_count": null,
   "metadata": {},
   "outputs": [
    {
     "name": "stdout",
     "output_type": "stream",
     "text": [
      "홍길동 010-1234-5678 카카오\n",
      "----------\n",
      "홍길순 010-9876-5432 네이버\n",
      "----------\n",
      "\n",
      "길동님은 저장되어있지 않습니다.\n",
      "\n",
      "홍길동 010-1234-5678 카카오\n",
      "\n",
      "길순님은 저장되어있지 않습니다.\n",
      "\n",
      "\n",
      "홍길순님의 정보가 삭제되었습니다.\n",
      "홍길동 010-1234-5678 카카오\n",
      "----------\n",
      "핸드폰을 종료합니다.\n"
     ]
    }
   ],
   "source": [
    "# 제출 후 기숙사 와서 4번 기능 추가\n",
    "import os\n",
    "\n",
    "class SmartPhone():\n",
    "    def __init__(self):\n",
    "\n",
    "        self.__nameLst = []\n",
    "        self.__numberLst = []\n",
    "        self.__companyLst = []\n",
    "\n",
    "        self.clearScreen()\n",
    "\n",
    "        self.myPhone = input('먼저 사용자 이릅을 입력 해 주세요 > ')\n",
    "        input(f'\\n안녕하세요 {self.myPhone}님')\n",
    "\n",
    "        self.clearScreen()\n",
    "\n",
    "        while True:\n",
    "            try:\n",
    "                menu_number = int(input('번호를 눌러 메뉴를 선택해 주세요.\\n\\n'\n",
    "                                        '1. 전화번호 저장\\n'\n",
    "                                        '2. 전화번호부 보기\\n'\n",
    "                                        '3. 전화번호 찾기\\n'\n",
    "                                        '4. 전화번호 삭제\\n'\n",
    "                                        '5. 종료\\n\\n'))\n",
    "            except Exception as e:\n",
    "                self.clearScreen()\n",
    "\n",
    "                menu_number = 0\n",
    "            \n",
    "            if menu_number == 1:\n",
    "                self.clearScreen()\n",
    "\n",
    "                try:\n",
    "                    self.setData = input('저장 하려는 사용자의 정보를 입력 해 주세요.\\n'\n",
    "                                        '예) 홍길동,010-0000-0000,카카오 > ').strip().split(',')\n",
    "                    if (len(self.setData) != 3):\n",
    "                        self.clearScreen()\n",
    "\n",
    "                        input('잘 못 입력하셨습니다.\\n'\n",
    "                              '예시와 같이 정확히 입력해 주세요.\\n'\n",
    "                              'Enter를 누르면 메인매뉴로 돌아갑니다.')\n",
    "                        \n",
    "                        self.clearScreen()\n",
    "                        continue\n",
    "                    \n",
    "                    elif (self.setData[1].count('-') != 2):\n",
    "                        self.clearScreen()\n",
    "\n",
    "                        input('잘 못 입력하셨습니다.\\n'\n",
    "                              '예시와 같이 번호를 정확히 입력해 주세요.\\n'\n",
    "                              'Enter를 누르면 메인매뉴로 돌아갑니다.')\n",
    "                        \n",
    "                        self.clearScreen()\n",
    "                        continue\n",
    "\n",
    "                    self.inputData(self.setData)\n",
    "\n",
    "                except Exception as e:\n",
    "                    input('잘 못 입력하셨습니다.\\n'\n",
    "                          '예시와 같이 정확히 입력해 주세요.\\n'\n",
    "                          'Enter를 누르면 메인매뉴로 돌아갑니다.')\n",
    "\n",
    "            elif menu_number == 2:\n",
    "                self.clearScreen()\n",
    "\n",
    "                for i, j, k in zip(self.__nameLst, self.__numberLst, self.__companyLst):\n",
    "                    print(i, j, k)\n",
    "                    print('----------')\n",
    "\n",
    "                input('\\nEnter를 눌러 이전화면으로 돌아가세요.')\n",
    "\n",
    "            elif menu_number == 3:\n",
    "                self.clearScreen()\n",
    "\n",
    "                name = input('저장된 사용자 이름을 정확히 입력해 주세요. > ')\n",
    "                print()\n",
    "\n",
    "                if name in self.__nameLst:\n",
    "                    index = self.__nameLst.index(name)\n",
    "                    print(self.__nameLst[index], self.__numberLst[index], self.__companyLst[index])\n",
    "                else:\n",
    "                    print(f'{name}님은 저장되어있지 않습니다.')\n",
    "\n",
    "                input('\\nEnter를 눌러 이전화면으로 돌아가세요.')\n",
    "                \n",
    "            elif menu_number == 4:\n",
    "                self.clearScreen()\n",
    "\n",
    "                name = input('저장된 사용자 이름을 정확히 입력해 주세요. > ')\n",
    "                print()\n",
    "\n",
    "                if name in self.__nameLst:\n",
    "                    index = self.__nameLst.index(name)\n",
    "                    del self.__nameLst[index]\n",
    "                    del self.__numberLst[index]\n",
    "                    del self.__companyLst[index]\n",
    "\n",
    "                    print(f'\\n{name}님의 정보가 삭제되었습니다.')\n",
    "                else:\n",
    "                    print(f'{name}님은 저장되어있지 않습니다.')\n",
    "\n",
    "                input('\\nEnter를 눌러 이전화면으로 돌아가세요.')\n",
    "\n",
    "            elif menu_number == 5:\n",
    "                self.clearScreen()\n",
    "                print('핸드폰을 종료합니다.')\n",
    "                break\n",
    "\n",
    "            else:\n",
    "                self.clearScreen()\n",
    "\n",
    "                input('숫자를 정확히 입력해 주세요!')\n",
    "            \n",
    "            self.clearScreen()\n",
    "\n",
    "    def inputData(self, setData: list):\n",
    "        self.clearScreen()\n",
    "\n",
    "        self.phoneOwner(setData[0])\n",
    "        self.phoneNumber(setData[1])\n",
    "        self.company(setData[2])\n",
    "\n",
    "        input('저장이 성공적으로 되었습니다.\\n'\n",
    "              '메뉴로 돌아가려면 Enter를 눌러주세요.')\n",
    "\n",
    "    def phoneOwner(self, name):\n",
    "        return self.__nameLst.append(name)\n",
    "\n",
    "    def phoneNumber(self, num):\n",
    "        return self.__numberLst.append(num)\n",
    "\n",
    "    def company(self, C_name):\n",
    "        return self.__companyLst.append(C_name)\n",
    "    \n",
    "    def clearScreen(self):\n",
    "        command = 'clear'\n",
    "        if os.name in ('nt', 'dos'):\n",
    "            command = 'cls'\n",
    "        \n",
    "        os.system(command)\n",
    "\n",
    "if __name__ == '__main__':\n",
    "    myPhone = SmartPhone()\n"
   ]
  }
 ],
 "metadata": {
  "kernelspec": {
   "display_name": "Python 3",
   "language": "python",
   "name": "python3"
  },
  "language_info": {
   "codemirror_mode": {
    "name": "ipython",
    "version": 3
   },
   "file_extension": ".py",
   "mimetype": "text/x-python",
   "name": "python",
   "nbconvert_exporter": "python",
   "pygments_lexer": "ipython3",
   "version": "3.11.9"
  }
 },
 "nbformat": 4,
 "nbformat_minor": 2
}
